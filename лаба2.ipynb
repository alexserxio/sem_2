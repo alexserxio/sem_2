{
  "nbformat": 4,
  "nbformat_minor": 0,
  "metadata": {
    "colab": {
      "provenance": [],
      "authorship_tag": "ABX9TyNx9+Q59c45NZr7Hhp+6ysp",
      "include_colab_link": true
    },
    "kernelspec": {
      "name": "python3",
      "display_name": "Python 3"
    },
    "language_info": {
      "name": "python"
    }
  },
  "cells": [
    {
      "cell_type": "markdown",
      "metadata": {
        "id": "view-in-github",
        "colab_type": "text"
      },
      "source": [
        "<a href=\"https://colab.research.google.com/github/alexserxio/sem_2/blob/main/%D0%BB%D0%B0%D0%B1%D0%B02.ipynb\" target=\"_parent\"><img src=\"https://colab.research.google.com/assets/colab-badge.svg\" alt=\"Open In Colab\"/></a>"
      ]
    },
    {
      "cell_type": "code",
      "execution_count": null,
      "metadata": {
        "colab": {
          "base_uri": "https://localhost:8080/"
        },
        "id": "_zAUZ7Rc26wl",
        "outputId": "b1d42a61-1ddd-4122-bdfb-8602d075d863"
      },
      "outputs": [
        {
          "output_type": "stream",
          "name": "stdout",
          "text": [
            "[[ 1  0  0  0  0  0  0  0  0  0]\n",
            " [ 2  2  0  0  0  0  0  0  0  0]\n",
            " [ 3  3  3  0  0  0  0  0  0  0]\n",
            " [ 4  4  4  4  0  0  0  0  0  0]\n",
            " [ 5  5  5  5  5  0  0  0  0  0]\n",
            " [ 6  6  6  6  6  6  0  0  0  0]\n",
            " [ 7  7  7  7  7  7  7  0  0  0]\n",
            " [ 8  8  8  8  8  8  8  8  0  0]\n",
            " [ 9  9  9  9  9  9  9  9  9  0]\n",
            " [10 10 10 10 10 10 10 10 10 10]]\n"
          ]
        }
      ],
      "source": [
        "import numpy as np\n",
        "\n",
        "\n",
        "size = 10\n",
        "x = np.zeros((size, size), int)\n",
        "\n",
        "\n",
        "for i in range(size):\n",
        "    x[:, i][i:] = np.arange(i + 1, size + 1)\n",
        "\n",
        "\n",
        "print(x)\n"
      ]
    },
    {
      "cell_type": "code",
      "source": [
        "import numpy as np\n",
        "\n",
        "\n",
        "# Исходные данные\n",
        "R1 = 15\n",
        "R2 = 15\n",
        "R3 = 15\n",
        "R4 = 10\n",
        "R5 = 15\n",
        "R6 = 25\n",
        "E1 = 80\n",
        "E2 = 105\n",
        "E3 = 130\n",
        "# Задаем матрицу линейных коэффициентов\n",
        "matrix = np.array(\n",
        "    [\n",
        "        [1, 0, -1, 0, 1, 0],\n",
        "        [0, 0, 0, 1, -1, -1],\n",
        "        [-1, -1, 0, 0, 0, 1],\n",
        "        [-R5, 0, 0, 0, R6, -R4],\n",
        "        [0, 0, -R1, -R3, -R6, 0],\n",
        "        [0, -R2, 0, -R3, 0, -R4],\n",
        "    ],\n",
        "    dtype=float,\n",
        ")\n",
        "# Задаем ответы для линейных уравнений\n",
        "answers = np.array([0, 0, 0, -E1, E3, E3 + E2 - E1], dtype=float)\n",
        "\n",
        "\n",
        "# Решаем СЛАУ с помощью библиотеки numpy\n",
        "print(\n",
        "    \"Решение, полученное с помощью библиотеки numpy\\n\", np.linalg.solve(matrix, answers)\n",
        ")\n",
        "\n",
        "\n",
        "def make_diagonal_dominant(matrix):\n",
        "    for current_row in range(len(matrix)):\n",
        "        max_element = max(matrix[:, current_row][current_row:])\n",
        "        max_row_index = (\n",
        "            np.where(np.isclose(matrix[:, current_row][current_row:], max_element))[0][\n",
        "                0\n",
        "            ]\n",
        "            + current_row\n",
        "        )\n",
        "        if current_row != max_row_index:\n",
        "            matrix[[current_row, max_row_index]] = matrix[[max_row_index, current_row]]\n",
        "\n",
        "\n",
        "def remove_zeros_from_diagonal(matrix):\n",
        "    for i in range(len(matrix)):\n",
        "        if matrix[i][i] == 0:\n",
        "            for j in range(len(matrix[:, i])):\n",
        "                if matrix[j][i] != 0:\n",
        "                    matrix[i] += matrix[j]\n",
        "                    break\n",
        "\n",
        "\n",
        "def forward_gauss(matrix):\n",
        "    for i in range(len(matrix)):\n",
        "        for j in range(i + 1, len(matrix)):\n",
        "            coeff = matrix[j][i] / matrix[i][i]\n",
        "            matrix[j] -= matrix[i] * coeff\n",
        "\n",
        "\n",
        "def backward_gauss(matrix):\n",
        "    n = len(matrix)\n",
        "    x = [0] * n\n",
        "    for i in range(n - 1, -1, -1):\n",
        "        x[i] = matrix[i][n] / matrix[i][i]\n",
        "        for j in range(i):\n",
        "            matrix[j][n] -= matrix[j][i] * x[i]\n",
        "            matrix[j][i] = 0\n",
        "    return x\n",
        "\n",
        "\n",
        "matrix = np.column_stack((matrix, answers))\n",
        "make_diagonal_dominant(matrix)\n",
        "remove_zeros_from_diagonal(matrix)\n",
        "make_diagonal_dominant(matrix)\n",
        "forward_gauss(matrix)\n",
        "x = backward_gauss(matrix)\n",
        "print(\"Самостоятельное решение\\n\", x)\n"
      ],
      "metadata": {
        "colab": {
          "base_uri": "https://localhost:8080/"
        },
        "id": "K6WBvf5l3jIL",
        "outputId": "9f4230be-b02a-45f3-e1db-9e3b0f57eb58"
      },
      "execution_count": null,
      "outputs": [
        {
          "output_type": "stream",
          "name": "stdout",
          "text": [
            "Решение, полученное с помощью библиотеки numpy\n",
            " [ 2.50000000e+00 -4.50000000e+00  9.47390314e-16 -4.50000000e+00\n",
            " -2.50000000e+00 -2.00000000e+00]\n",
            "Самостоятельное решение\n",
            " [2.5, -4.5, -0.0, -4.5, -2.5, -2.0]\n"
          ]
        }
      ]
    }
  ]
}